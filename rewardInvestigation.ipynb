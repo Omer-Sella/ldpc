{
 "cells": [
  {
   "cell_type": "code",
   "execution_count": 1,
   "metadata": {},
   "outputs": [],
   "source": [
    "from numba import cuda, float32, int32\n",
    "import numpy as np\n",
    "import os\n",
    "import time\n",
    "import copy\n",
    "import operator\n",
    "import math\n",
    "\n",
    "# This next part is to avoid installing any packages. \n",
    "# On my machines I have an environment variable \"LDPC\" which contains the path to the project directory\n",
    "# If you want a quick fix, you can comment the next line and set projectDir to where you cloned the repo.\n",
    "projectDir = os.environ.get('LDPC')\n",
    "if projectDir == None:\n",
    "    import pathlib\n",
    "    projectDir = pathlib.Path(__file__).parent.absolute()\n",
    "\n",
    "# This part inserts the project directory into the environment path for the duration of this application.\n",
    "import sys\n",
    "sys.path.insert(1, projectDir)\n",
    "\n",
    "# Import helper modules\n",
    "import fileHandler\n",
    "import common\n",
    "\n",
    "# Next we set up a local prng, this is because we use np.random in several places, and we want each to have their own seed.\n",
    "LDPC_LOCAL_PRNG = np.random.RandomState(7134066)\n",
    "CODEWORD_LENGTH = 8176\n",
    "# Now let's import the baseline matrix, I.e.: a matrix which is actually a good ECC\n",
    "nearEarthParity = np.int32(fileHandler.readMatrixFromFile(str(projectDir) + '/codeMatrices/nearEarthParity.txt', 1022, 8176, 511, True, False, False))\n"
   ]
  },
  {
   "cell_type": "code",
   "execution_count": 2,
   "metadata": {},
   "outputs": [],
   "source": [
    "#If everything went ok, then you should now be able to import ldpcCUDA.py\n",
    "import ldpcCUDA\n",
    "\n"
   ]
  },
  {
   "cell_type": "code",
   "execution_count": null,
   "metadata": {},
   "outputs": [],
   "source": [
    "# As a sanity check, I usually call this function:\n",
    "ldpcCUDA.testNearEarth(numOfTransmissions = 10, graphics = True)\n",
    "# It would take a few minutes to finish, depending on the value of numberOfTransmissions.\n",
    "# With respect to our discussion, numberOfTransmissions is the number of samples for each sample of s^2\n",
    "# The output should be how much time it took (so for example 19 seconds on my machine with 30 transmissions) \n",
    "# and throughput (37693 bits per second on my machine). \n",
    "# The higher the throughput, the more samples we can take."
   ]
  },
  {
   "cell_type": "code",
   "execution_count": 7,
   "metadata": {},
   "outputs": [
    {
     "name": "stdout",
     "output_type": "stream",
     "text": [
      "0.46718081737169276\n",
      "0.46571935680809146\n"
     ]
    }
   ],
   "source": [
    "# Now let's see how to generate epsilons:\n",
    "\n",
    "SNRdb = 3.6\n",
    "SNR = 10 ** (SNRdb/10)\n",
    "## Now use the definition: SNR = signal^2 / sigma^2\n",
    "sigma = np.sqrt(0.5 / SNR)\n",
    "# This is where we sample epsilon\n",
    "epsilon = np.float32(LDPC_LOCAL_PRNG.normal(0, sigma, CODEWORD_LENGTH))\n",
    "sigmaActual = np.sqrt((np.sum(epsilon ** 2)) / CODEWORD_LENGTH)\n",
    "print(sigma)\n",
    "print(sigmaActual)\n",
    "# Now, you may want to know, if we just tried to take epsilon and do no ECC, how many \"hard\" errors are there.\n",
    "# For that we first \"slice\" epsilon (i.e.: if epsilon[i] <= 0 then slicedEpsilon = 0, otherwise slicedEpsilon[i] = 1)"
   ]
  },
  {
   "cell_type": "code",
   "execution_count": 8,
   "metadata": {},
   "outputs": [
    {
     "name": "stdout",
     "output_type": "stream",
     "text": [
      "Using cuda device number: 0\n",
      "*** while iterator finished at 7\n",
      "0.0\n"
     ]
    }
   ],
   "source": [
    "berUncoded, berDecoded, iterator, totalTime = ldpcCUDA.evaluateMatrixAndEpsilon(nearEarthParity, epsilon, numberOfIterations = 50, cudaDeviceNumber = 0) #You can also set the cuda device number using, the default is 0"
   ]
  },
  {
   "cell_type": "code",
   "execution_count": 14,
   "metadata": {},
   "outputs": [
    {
     "name": "stdout",
     "output_type": "stream",
     "text": [
      "Without any error correction the bit error rate is 160 / <length of codeword> == 0.019569\n",
      "After 7 iterations of min-sum decoding, the bit error rate is 0 / <length of codeword> == 0.000000\n"
     ]
    }
   ],
   "source": [
    "print(\"Without any error correction the bit error rate is %d / <length of codeword> == %f\" % (berUncoded, berUncoded/8176))\n",
    "print(\"After %d iterations of min-sum decoding, the bit error rate is %d / <length of codeword> == %f\" % (iterator, berDecoded, berDecoded/8176))"
   ]
  },
  {
   "cell_type": "code",
   "execution_count": 24,
   "metadata": {},
   "outputs": [],
   "source": [
    "# Now let's check the variability "
   ]
  },
  {
   "cell_type": "code",
   "execution_count": null,
   "metadata": {},
   "outputs": [],
   "source": []
  },
  {
   "cell_type": "code",
   "execution_count": null,
   "metadata": {},
   "outputs": [],
   "source": []
  }
 ],
 "metadata": {
  "kernelspec": {
   "display_name": "Python 3",
   "language": "python",
   "name": "python3"
  },
  "language_info": {
   "codemirror_mode": {
    "name": "ipython",
    "version": 3
   },
   "file_extension": ".py",
   "mimetype": "text/x-python",
   "name": "python",
   "nbconvert_exporter": "python",
   "pygments_lexer": "ipython3",
   "version": "3.8.8"
  }
 },
 "nbformat": 4,
 "nbformat_minor": 4
}
